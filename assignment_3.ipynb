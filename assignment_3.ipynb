{
 "cells": [
  {
   "cell_type": "code",
   "execution_count": 6,
   "metadata": {},
   "outputs": [
    {
     "data": {
      "text/plain": [
       "0.0303030303030303"
      ]
     },
     "execution_count": 6,
     "metadata": {},
     "output_type": "execute_result"
    }
   ],
   "source": [
    "# Question 1\n",
    "\n",
    "# let p(a) be a\n",
    "a = 11.0/36 \n",
    "# let p(b) be b\n",
    "b = 6.0/36 \n",
    "# let p(a/b) be c\n",
    "c = 2.0/36 \n",
    "\n",
    "def cal(a,b,c):\n",
    "    return (c*b)/a\n",
    "\n",
    "# p(b/a)\n",
    "cal(a,b,c)"
   ]
  },
  {
   "cell_type": "code",
   "execution_count": 8,
   "metadata": {},
   "outputs": [
    {
     "name": "stdout",
     "output_type": "stream",
     "text": [
      "0.6\n"
     ]
    }
   ],
   "source": [
    "# question 2\n",
    "\n",
    "p=0.5    #probability of bag 1\n",
    "q=0.5    #probability of bag 2\n",
    "pB=0.6    #probability of black ball from bag 1\n",
    "qB=0.4    #probability of black ball from bag 2\n",
    "prob = (p*pB)/((p*pB)+(q*qB))\n",
    "\n",
    "print (prob)"
   ]
  },
  {
   "cell_type": "code",
   "execution_count": 9,
   "metadata": {},
   "outputs": [
    {
     "name": "stdout",
     "output_type": "stream",
     "text": [
      "0.285714285714\n"
     ]
    }
   ],
   "source": [
    "# Question 3\n",
    "\n",
    "truth = 0.6666666666667\n",
    "lie = 0.3333333333333\n",
    "obn4 = 0.1666666666667\n",
    "nobn4 = 0.8333333333333\n",
    "prob = (truth*obn4)/((truth*obn4)+(lie*nobn4))\n",
    "\n",
    "print (prob)"
   ]
  }
 ],
 "metadata": {
  "kernelspec": {
   "display_name": "Python 2",
   "language": "python",
   "name": "python2"
  },
  "language_info": {
   "codemirror_mode": {
    "name": "ipython",
    "version": 2
   },
   "file_extension": ".py",
   "mimetype": "text/x-python",
   "name": "python",
   "nbconvert_exporter": "python",
   "pygments_lexer": "ipython2",
   "version": "2.7.14"
  }
 },
 "nbformat": 4,
 "nbformat_minor": 2
}
