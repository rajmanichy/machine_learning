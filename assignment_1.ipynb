{
 "cells": [
  {
   "cell_type": "code",
   "execution_count": 23,
   "metadata": {},
   "outputs": [
    {
     "name": "stdout",
     "output_type": "stream",
     "text": [
      "['8', '9', '10', '11', '12']\n",
      "['8', '9', '10', '11', '12']\n"
     ]
    }
   ],
   "source": [
    "# Question 1\n",
    "x = ['1','2','3','4','5','6','7','8','9','10','11','12','13','14','15','16']\n",
    "# elements from 8th to 12th positive\n",
    "print(x[7:12])\n",
    "\n",
    "# elements from 8th to 12th negative\n",
    "print(x[-9:-4])"
   ]
  },
  {
   "cell_type": "code",
   "execution_count": 18,
   "metadata": {},
   "outputs": [
    {
     "name": "stdout",
     "output_type": "stream",
     "text": [
      "['2', '4', '6', '8', '10', '12', '14', '16']\n"
     ]
    }
   ],
   "source": [
    "# Question 2\n",
    "x = ['1','2','3','4','5','6','7','8','9','10','11','12','13','14','15','16']\n",
    "# even nos. from x using list slicing\n",
    "print(x[1::2])\n"
   ]
  },
  {
   "cell_type": "code",
   "execution_count": 15,
   "metadata": {},
   "outputs": [
    {
     "name": "stdout",
     "output_type": "stream",
     "text": [
      "['1', '5', '9', '13']\n"
     ]
    }
   ],
   "source": [
    "# Question 3\n",
    "x = ['1','2','3','4','5','6','7','8','9','10','11','12','13','14','15','16']\n",
    "# Printed every 4th no. using list slicing\n",
    "print(x[0::4])\n"
   ]
  }
 ],
 "metadata": {
  "kernelspec": {
   "display_name": "Python 2",
   "language": "python",
   "name": "python2"
  },
  "language_info": {
   "codemirror_mode": {
    "name": "ipython",
    "version": 2
   },
   "file_extension": ".py",
   "mimetype": "text/x-python",
   "name": "python",
   "nbconvert_exporter": "python",
   "pygments_lexer": "ipython2",
   "version": "2.7.14"
  }
 },
 "nbformat": 4,
 "nbformat_minor": 2
}
